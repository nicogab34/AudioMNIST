{
 "cells": [
  {
   "cell_type": "code",
   "execution_count": 1,
   "metadata": {},
   "outputs": [],
   "source": [
    "import add_to_syspath\n",
    "from audiomnist.models.audionet_inference import build_model\n",
    "from audiomnist.train.audionet import get_epoch_checkpoint\n",
    "import tensorflow as tf\n",
    "import tensorflow.keras.backend as K\n",
    "from lucid.modelzoo import audio_base"
   ]
  },
  {
   "cell_type": "code",
   "execution_count": 2,
   "metadata": {},
   "outputs": [
    {
     "name": "stdout",
     "output_type": "stream",
     "text": [
      "WARNING:tensorflow:From /workdir/idrissib/miniconda3/envs/aud_interp/lib/python3.7/site-packages/tensorflow/python/ops/resource_variable_ops.py:435: colocate_with (from tensorflow.python.framework.ops) is deprecated and will be removed in a future version.\n",
      "Instructions for updating:\n",
      "Colocations handled automatically by placer.\n"
     ]
    },
    {
     "name": "stderr",
     "output_type": "stream",
     "text": [
      "WARNING:tensorflow:From /workdir/idrissib/miniconda3/envs/aud_interp/lib/python3.7/site-packages/tensorflow/python/ops/resource_variable_ops.py:435: colocate_with (from tensorflow.python.framework.ops) is deprecated and will be removed in a future version.\n",
      "Instructions for updating:\n",
      "Colocations handled automatically by placer.\n"
     ]
    },
    {
     "name": "stdout",
     "output_type": "stream",
     "text": [
      "WARNING:tensorflow:Inconsistent references when loading the checkpoint into this object graph. Either the Checkpointable object references in the Python program have changed in an incompatible way, or the checkpoint was generated in an incompatible program.\n",
      "\n",
      "Two checkpoint references resolved to different objects (<tensorflow.python.keras.layers.core.Dense object at 0x7ffef5636b38> and <tensorflow.python.keras.layers.core.Dense object at 0x7ffef5636ba8>).\n"
     ]
    },
    {
     "name": "stderr",
     "output_type": "stream",
     "text": [
      "WARNING:tensorflow:Inconsistent references when loading the checkpoint into this object graph. Either the Checkpointable object references in the Python program have changed in an incompatible way, or the checkpoint was generated in an incompatible program.\n",
      "\n",
      "Two checkpoint references resolved to different objects (<tensorflow.python.keras.layers.core.Dense object at 0x7ffef5636b38> and <tensorflow.python.keras.layers.core.Dense object at 0x7ffef5636ba8>).\n"
     ]
    },
    {
     "data": {
      "text/plain": [
       "<tensorflow.python.training.checkpointable.util.CheckpointLoadStatus at 0x7ffef54fd0b8>"
      ]
     },
     "execution_count": 2,
     "metadata": {},
     "output_type": "execute_result"
    }
   ],
   "source": [
    "model = build_model()\n",
    "ckpt = get_epoch_checkpoint(\"../models/audionet2\", 18)\n",
    "model.load_weights(ckpt)"
   ]
  },
  {
   "cell_type": "code",
   "execution_count": 4,
   "metadata": {},
   "outputs": [
    {
     "name": "stdout",
     "output_type": "stream",
     "text": [
      "WARNING:tensorflow:From /gpfs/workdir/idrissib/lucid/lucid/modelzoo/util.py:68: remove_training_nodes (from tensorflow.python.framework.graph_util_impl) is deprecated and will be removed in a future version.\n",
      "Instructions for updating:\n",
      "Use tf.compat.v1.graph_util.remove_training_nodes\n"
     ]
    },
    {
     "name": "stderr",
     "output_type": "stream",
     "text": [
      "WARNING:tensorflow:From /gpfs/workdir/idrissib/lucid/lucid/modelzoo/util.py:68: remove_training_nodes (from tensorflow.python.framework.graph_util_impl) is deprecated and will be removed in a future version.\n",
      "Instructions for updating:\n",
      "Use tf.compat.v1.graph_util.remove_training_nodes\n"
     ]
    },
    {
     "name": "stdout",
     "output_type": "stream",
     "text": [
      "WARNING:tensorflow:From /gpfs/workdir/idrissib/lucid/lucid/modelzoo/util.py:70: extract_sub_graph (from tensorflow.python.framework.graph_util_impl) is deprecated and will be removed in a future version.\n",
      "Instructions for updating:\n",
      "Use tf.compat.v1.graph_util.extract_sub_graph\n"
     ]
    },
    {
     "name": "stderr",
     "output_type": "stream",
     "text": [
      "WARNING:tensorflow:From /gpfs/workdir/idrissib/lucid/lucid/modelzoo/util.py:70: extract_sub_graph (from tensorflow.python.framework.graph_util_impl) is deprecated and will be removed in a future version.\n",
      "Instructions for updating:\n",
      "Use tf.compat.v1.graph_util.extract_sub_graph\n"
     ]
    },
    {
     "name": "stdout",
     "output_type": "stream",
     "text": [
      "WARNING:tensorflow:From /gpfs/workdir/idrissib/lucid/lucid/modelzoo/util.py:81: convert_variables_to_constants (from tensorflow.python.framework.graph_util_impl) is deprecated and will be removed in a future version.\n",
      "Instructions for updating:\n",
      "Use tf.compat.v1.graph_util.convert_variables_to_constants\n"
     ]
    },
    {
     "name": "stderr",
     "output_type": "stream",
     "text": [
      "WARNING:tensorflow:From /gpfs/workdir/idrissib/lucid/lucid/modelzoo/util.py:81: convert_variables_to_constants (from tensorflow.python.framework.graph_util_impl) is deprecated and will be removed in a future version.\n",
      "Instructions for updating:\n",
      "Use tf.compat.v1.graph_util.convert_variables_to_constants\n"
     ]
    },
    {
     "name": "stdout",
     "output_type": "stream",
     "text": [
      "INFO:tensorflow:Froze 18 variables.\n"
     ]
    },
    {
     "name": "stderr",
     "output_type": "stream",
     "text": [
      "INFO:tensorflow:Froze 18 variables.\n"
     ]
    },
    {
     "name": "stdout",
     "output_type": "stream",
     "text": [
      "INFO:tensorflow:Converted 18 variables to const ops.\n"
     ]
    },
    {
     "name": "stderr",
     "output_type": "stream",
     "text": [
      "INFO:tensorflow:Converted 18 variables to const ops.\n"
     ]
    }
   ],
   "source": [
    "with K.get_session().as_default():\n",
    "    audio_base.Model.save(\n",
    "        save_url=\"../models/audionet2_lucid/frozen_graph_inference.pb\",\n",
    "        input_name='conv1_input',\n",
    "        image_shape=[8000,1],                   # TODO (eg. [224, 224, 3])\n",
    "        output_names=['dense3/Softmax'],\n",
    "        image_value_range=[-1,1],                   # TODO (eg. '[-1, 1], [0, 1], [0, 255], or [-117, 138]')\n",
    "      )"
   ]
  },
  {
   "cell_type": "code",
   "execution_count": 5,
   "metadata": {},
   "outputs": [
    {
     "data": {
      "text/plain": [
       "[<tf.Variable 'conv1/kernel:0' shape=(3, 1, 100) dtype=float32>,\n",
       " <tf.Variable 'conv1/bias:0' shape=(100,) dtype=float32>,\n",
       " <tf.Variable 'conv2/kernel:0' shape=(3, 100, 64) dtype=float32>,\n",
       " <tf.Variable 'conv2/bias:0' shape=(64,) dtype=float32>,\n",
       " <tf.Variable 'conv3/kernel:0' shape=(3, 64, 128) dtype=float32>,\n",
       " <tf.Variable 'conv3/bias:0' shape=(128,) dtype=float32>,\n",
       " <tf.Variable 'conv4/kernel:0' shape=(3, 128, 128) dtype=float32>,\n",
       " <tf.Variable 'conv4/bias:0' shape=(128,) dtype=float32>,\n",
       " <tf.Variable 'conv5/kernel:0' shape=(3, 128, 128) dtype=float32>,\n",
       " <tf.Variable 'conv5/bias:0' shape=(128,) dtype=float32>,\n",
       " <tf.Variable 'conv6/kernel:0' shape=(3, 128, 128) dtype=float32>,\n",
       " <tf.Variable 'conv6/bias:0' shape=(128,) dtype=float32>,\n",
       " <tf.Variable 'dense1/kernel:0' shape=(16000, 1024) dtype=float32>,\n",
       " <tf.Variable 'dense1/bias:0' shape=(1024,) dtype=float32>,\n",
       " <tf.Variable 'dense2/kernel:0' shape=(1024, 512) dtype=float32>,\n",
       " <tf.Variable 'dense2/bias:0' shape=(512,) dtype=float32>,\n",
       " <tf.Variable 'dense3/kernel:0' shape=(512, 10) dtype=float32>,\n",
       " <tf.Variable 'dense3/bias:0' shape=(10,) dtype=float32>]"
      ]
     },
     "execution_count": 5,
     "metadata": {},
     "output_type": "execute_result"
    }
   ],
   "source": [
    "tf.global_variables()"
   ]
  },
  {
   "cell_type": "code",
   "execution_count": 2,
   "metadata": {},
   "outputs": [],
   "source": [
    "model = audio_base.Model.load(\"../models/audionet2_lucid/frozen_graph_inference.pb\")"
   ]
  },
  {
   "cell_type": "code",
   "execution_count": 3,
   "metadata": {},
   "outputs": [],
   "source": [
    "model.import_graph()"
   ]
  },
  {
   "cell_type": "code",
   "execution_count": 6,
   "metadata": {},
   "outputs": [
    {
     "data": {
      "text/plain": [
       "[<tf.Operation 'Placeholder' type=Placeholder>,\n",
       " <tf.Operation 'ExpandDims/dim' type=Const>,\n",
       " <tf.Operation 'ExpandDims' type=ExpandDims>,\n",
       " <tf.Operation 'mul/y' type=Const>,\n",
       " <tf.Operation 'mul' type=Mul>,\n",
       " <tf.Operation 'add/x' type=Const>,\n",
       " <tf.Operation 'add' type=Add>,\n",
       " <tf.Operation 'import/conv1_input' type=Placeholder>,\n",
       " <tf.Operation 'import/conv1/kernel' type=Const>,\n",
       " <tf.Operation 'import/conv1/bias' type=Const>,\n",
       " <tf.Operation 'import/conv1/conv1d/ExpandDims/dim' type=Const>,\n",
       " <tf.Operation 'import/conv1/conv1d/ExpandDims' type=ExpandDims>,\n",
       " <tf.Operation 'import/conv1/conv1d/ExpandDims_1/ReadVariableOp' type=Identity>,\n",
       " <tf.Operation 'import/conv1/conv1d/ExpandDims_1/dim' type=Const>,\n",
       " <tf.Operation 'import/conv1/conv1d/ExpandDims_1' type=ExpandDims>,\n",
       " <tf.Operation 'import/conv1/conv1d/Conv2D' type=Conv2D>,\n",
       " <tf.Operation 'import/conv1/conv1d/Squeeze' type=Squeeze>,\n",
       " <tf.Operation 'import/conv1/BiasAdd/ReadVariableOp' type=Identity>,\n",
       " <tf.Operation 'import/conv1/BiasAdd' type=BiasAdd>,\n",
       " <tf.Operation 'import/conv1/Relu' type=Relu>,\n",
       " <tf.Operation 'import/pool1/ExpandDims/dim' type=Const>,\n",
       " <tf.Operation 'import/pool1/ExpandDims' type=ExpandDims>,\n",
       " <tf.Operation 'import/pool1/MaxPool' type=MaxPool>,\n",
       " <tf.Operation 'import/pool1/Squeeze' type=Squeeze>,\n",
       " <tf.Operation 'import/conv2/kernel' type=Const>,\n",
       " <tf.Operation 'import/conv2/bias' type=Const>,\n",
       " <tf.Operation 'import/conv2/conv1d/ExpandDims/dim' type=Const>,\n",
       " <tf.Operation 'import/conv2/conv1d/ExpandDims' type=ExpandDims>,\n",
       " <tf.Operation 'import/conv2/conv1d/ExpandDims_1/ReadVariableOp' type=Identity>,\n",
       " <tf.Operation 'import/conv2/conv1d/ExpandDims_1/dim' type=Const>,\n",
       " <tf.Operation 'import/conv2/conv1d/ExpandDims_1' type=ExpandDims>,\n",
       " <tf.Operation 'import/conv2/conv1d/Conv2D' type=Conv2D>,\n",
       " <tf.Operation 'import/conv2/conv1d/Squeeze' type=Squeeze>,\n",
       " <tf.Operation 'import/conv2/BiasAdd/ReadVariableOp' type=Identity>,\n",
       " <tf.Operation 'import/conv2/BiasAdd' type=BiasAdd>,\n",
       " <tf.Operation 'import/conv2/Relu' type=Relu>,\n",
       " <tf.Operation 'import/pool2/ExpandDims/dim' type=Const>,\n",
       " <tf.Operation 'import/pool2/ExpandDims' type=ExpandDims>,\n",
       " <tf.Operation 'import/pool2/MaxPool' type=MaxPool>,\n",
       " <tf.Operation 'import/pool2/Squeeze' type=Squeeze>,\n",
       " <tf.Operation 'import/conv3/kernel' type=Const>,\n",
       " <tf.Operation 'import/conv3/bias' type=Const>,\n",
       " <tf.Operation 'import/conv3/conv1d/ExpandDims/dim' type=Const>,\n",
       " <tf.Operation 'import/conv3/conv1d/ExpandDims' type=ExpandDims>,\n",
       " <tf.Operation 'import/conv3/conv1d/ExpandDims_1/ReadVariableOp' type=Identity>,\n",
       " <tf.Operation 'import/conv3/conv1d/ExpandDims_1/dim' type=Const>,\n",
       " <tf.Operation 'import/conv3/conv1d/ExpandDims_1' type=ExpandDims>,\n",
       " <tf.Operation 'import/conv3/conv1d/Conv2D' type=Conv2D>,\n",
       " <tf.Operation 'import/conv3/conv1d/Squeeze' type=Squeeze>,\n",
       " <tf.Operation 'import/conv3/BiasAdd/ReadVariableOp' type=Identity>,\n",
       " <tf.Operation 'import/conv3/BiasAdd' type=BiasAdd>,\n",
       " <tf.Operation 'import/conv3/Relu' type=Relu>,\n",
       " <tf.Operation 'import/pool3/ExpandDims/dim' type=Const>,\n",
       " <tf.Operation 'import/pool3/ExpandDims' type=ExpandDims>,\n",
       " <tf.Operation 'import/pool3/MaxPool' type=MaxPool>,\n",
       " <tf.Operation 'import/pool3/Squeeze' type=Squeeze>,\n",
       " <tf.Operation 'import/conv4/kernel' type=Const>,\n",
       " <tf.Operation 'import/conv4/bias' type=Const>,\n",
       " <tf.Operation 'import/conv4/conv1d/ExpandDims/dim' type=Const>,\n",
       " <tf.Operation 'import/conv4/conv1d/ExpandDims' type=ExpandDims>,\n",
       " <tf.Operation 'import/conv4/conv1d/ExpandDims_1/ReadVariableOp' type=Identity>,\n",
       " <tf.Operation 'import/conv4/conv1d/ExpandDims_1/dim' type=Const>,\n",
       " <tf.Operation 'import/conv4/conv1d/ExpandDims_1' type=ExpandDims>,\n",
       " <tf.Operation 'import/conv4/conv1d/Conv2D' type=Conv2D>,\n",
       " <tf.Operation 'import/conv4/conv1d/Squeeze' type=Squeeze>,\n",
       " <tf.Operation 'import/conv4/BiasAdd/ReadVariableOp' type=Identity>,\n",
       " <tf.Operation 'import/conv4/BiasAdd' type=BiasAdd>,\n",
       " <tf.Operation 'import/conv4/Relu' type=Relu>,\n",
       " <tf.Operation 'import/pool4/ExpandDims/dim' type=Const>,\n",
       " <tf.Operation 'import/pool4/ExpandDims' type=ExpandDims>,\n",
       " <tf.Operation 'import/pool4/MaxPool' type=MaxPool>,\n",
       " <tf.Operation 'import/pool4/Squeeze' type=Squeeze>,\n",
       " <tf.Operation 'import/conv5/kernel' type=Const>,\n",
       " <tf.Operation 'import/conv5/bias' type=Const>,\n",
       " <tf.Operation 'import/conv5/conv1d/ExpandDims/dim' type=Const>,\n",
       " <tf.Operation 'import/conv5/conv1d/ExpandDims' type=ExpandDims>,\n",
       " <tf.Operation 'import/conv5/conv1d/ExpandDims_1/ReadVariableOp' type=Identity>,\n",
       " <tf.Operation 'import/conv5/conv1d/ExpandDims_1/dim' type=Const>,\n",
       " <tf.Operation 'import/conv5/conv1d/ExpandDims_1' type=ExpandDims>,\n",
       " <tf.Operation 'import/conv5/conv1d/Conv2D' type=Conv2D>,\n",
       " <tf.Operation 'import/conv5/conv1d/Squeeze' type=Squeeze>,\n",
       " <tf.Operation 'import/conv5/BiasAdd/ReadVariableOp' type=Identity>,\n",
       " <tf.Operation 'import/conv5/BiasAdd' type=BiasAdd>,\n",
       " <tf.Operation 'import/conv5/Relu' type=Relu>,\n",
       " <tf.Operation 'import/pool5/ExpandDims/dim' type=Const>,\n",
       " <tf.Operation 'import/pool5/ExpandDims' type=ExpandDims>,\n",
       " <tf.Operation 'import/pool5/MaxPool' type=MaxPool>,\n",
       " <tf.Operation 'import/pool5/Squeeze' type=Squeeze>,\n",
       " <tf.Operation 'import/conv6/kernel' type=Const>,\n",
       " <tf.Operation 'import/conv6/bias' type=Const>,\n",
       " <tf.Operation 'import/conv6/conv1d/ExpandDims/dim' type=Const>,\n",
       " <tf.Operation 'import/conv6/conv1d/ExpandDims' type=ExpandDims>,\n",
       " <tf.Operation 'import/conv6/conv1d/ExpandDims_1/ReadVariableOp' type=Identity>,\n",
       " <tf.Operation 'import/conv6/conv1d/ExpandDims_1/dim' type=Const>,\n",
       " <tf.Operation 'import/conv6/conv1d/ExpandDims_1' type=ExpandDims>,\n",
       " <tf.Operation 'import/conv6/conv1d/Conv2D' type=Conv2D>,\n",
       " <tf.Operation 'import/conv6/conv1d/Squeeze' type=Squeeze>,\n",
       " <tf.Operation 'import/conv6/BiasAdd/ReadVariableOp' type=Identity>,\n",
       " <tf.Operation 'import/conv6/BiasAdd' type=BiasAdd>,\n",
       " <tf.Operation 'import/conv6/Relu' type=Relu>,\n",
       " <tf.Operation 'import/pool6/ExpandDims/dim' type=Const>,\n",
       " <tf.Operation 'import/pool6/ExpandDims' type=ExpandDims>,\n",
       " <tf.Operation 'import/pool6/MaxPool' type=MaxPool>,\n",
       " <tf.Operation 'import/pool6/Squeeze' type=Squeeze>,\n",
       " <tf.Operation 'import/flatten/Shape' type=Shape>,\n",
       " <tf.Operation 'import/flatten/strided_slice/stack' type=Const>,\n",
       " <tf.Operation 'import/flatten/strided_slice/stack_1' type=Const>,\n",
       " <tf.Operation 'import/flatten/strided_slice/stack_2' type=Const>,\n",
       " <tf.Operation 'import/flatten/strided_slice' type=StridedSlice>,\n",
       " <tf.Operation 'import/flatten/Reshape/shape/1' type=Const>,\n",
       " <tf.Operation 'import/flatten/Reshape/shape' type=Pack>,\n",
       " <tf.Operation 'import/flatten/Reshape' type=Reshape>,\n",
       " <tf.Operation 'import/dense1/kernel' type=Const>,\n",
       " <tf.Operation 'import/dense1/bias' type=Const>,\n",
       " <tf.Operation 'import/dense1/MatMul/ReadVariableOp' type=Identity>,\n",
       " <tf.Operation 'import/dense1/MatMul' type=MatMul>,\n",
       " <tf.Operation 'import/dense1/BiasAdd/ReadVariableOp' type=Identity>,\n",
       " <tf.Operation 'import/dense1/BiasAdd' type=BiasAdd>,\n",
       " <tf.Operation 'import/dense2/kernel' type=Const>,\n",
       " <tf.Operation 'import/dense2/bias' type=Const>,\n",
       " <tf.Operation 'import/dense2/MatMul/ReadVariableOp' type=Identity>,\n",
       " <tf.Operation 'import/dense2/MatMul' type=MatMul>,\n",
       " <tf.Operation 'import/dense2/BiasAdd/ReadVariableOp' type=Identity>,\n",
       " <tf.Operation 'import/dense2/BiasAdd' type=BiasAdd>,\n",
       " <tf.Operation 'import/dense3/kernel' type=Const>,\n",
       " <tf.Operation 'import/dense3/bias' type=Const>,\n",
       " <tf.Operation 'import/dense3/MatMul/ReadVariableOp' type=Identity>,\n",
       " <tf.Operation 'import/dense3/MatMul' type=MatMul>,\n",
       " <tf.Operation 'import/dense3/BiasAdd/ReadVariableOp' type=Identity>,\n",
       " <tf.Operation 'import/dense3/BiasAdd' type=BiasAdd>,\n",
       " <tf.Operation 'import/dense3/Softmax' type=Softmax>,\n",
       " <tf.Operation 'import/lucid_metadata_json' type=Const>]"
      ]
     },
     "execution_count": 6,
     "metadata": {},
     "output_type": "execute_result"
    }
   ],
   "source": [
    "tf.get_default_graph().get_operations()"
   ]
  },
  {
   "cell_type": "code",
   "execution_count": 4,
   "metadata": {},
   "outputs": [
    {
     "data": {
      "text/html": [
       "\n",
       "        <iframe seamless style=\"width:100%; height:620px; border: none;\" srcdoc=\"\n",
       "        <script>\n",
       "          function load() {\n",
       "            document.getElementById(&quot;graph0.7745351983431056&quot;).pbtxt = 'node {\\n  name: &quot;conv1_input&quot;\\n  op: &quot;Placeholder&quot;\\n  attr {\\n    key: &quot;dtype&quot;\\n    value {\\n      type: DT_FLOAT\\n    }\\n  }\\n  attr {\\n    key: &quot;shape&quot;\\n    value {\\n      shape {\\n        dim {\\n          size: -1\\n        }\\n        dim {\\n          size: 8000\\n        }\\n        dim {\\n          size: 1\\n        }\\n      }\\n    }\\n  }\\n}\\nnode {\\n  name: &quot;conv1/kernel&quot;\\n  op: &quot;Const&quot;\\n  attr {\\n    key: &quot;dtype&quot;\\n    value {\\n      type: DT_FLOAT\\n    }\\n  }\\n  attr {\\n    key: &quot;value&quot;\\n    value {\\n      tensor {\\n        dtype: DT_FLOAT\\n        tensor_shape {\\n          dim {\\n            size: 3\\n          }\\n          dim {\\n            size: 1\\n          }\\n          dim {\\n            size: 100\\n          }\\n        }\\n        tensor_content: &quot;<stripped 1200 bytes>&quot;\\n      }\\n    }\\n  }\\n}\\nnode {\\n  name: &quot;conv1/bias&quot;\\n  op: &quot;Const&quot;\\n  attr {\\n    key: &quot;dtype&quot;\\n    value {\\n      type: DT_FLOAT\\n    }\\n  }\\n  attr {\\n    key: &quot;value&quot;\\n    value {\\n      tensor {\\n        dtype: DT_FLOAT\\n        tensor_shape {\\n          dim {\\n            size: 100\\n          }\\n        }\\n        tensor_content: &quot;<stripped 400 bytes>&quot;\\n      }\\n    }\\n  }\\n}\\nnode {\\n  name: &quot;conv1/conv1d/ExpandDims/dim&quot;\\n  op: &quot;Const&quot;\\n  attr {\\n    key: &quot;dtype&quot;\\n    value {\\n      type: DT_INT32\\n    }\\n  }\\n  attr {\\n    key: &quot;value&quot;\\n    value {\\n      tensor {\\n        dtype: DT_INT32\\n        tensor_shape {\\n        }\\n        int_val: 1\\n      }\\n    }\\n  }\\n}\\nnode {\\n  name: &quot;conv1/conv1d/ExpandDims&quot;\\n  op: &quot;ExpandDims&quot;\\n  input: &quot;conv1_input&quot;\\n  input: &quot;conv1/conv1d/ExpandDims/dim&quot;\\n  attr {\\n    key: &quot;T&quot;\\n    value {\\n      type: DT_FLOAT\\n    }\\n  }\\n  attr {\\n    key: &quot;Tdim&quot;\\n    value {\\n      type: DT_INT32\\n    }\\n  }\\n}\\nnode {\\n  name: &quot;conv1/conv1d/ExpandDims_1/ReadVariableOp&quot;\\n  op: &quot;Identity&quot;\\n  input: &quot;conv1/kernel&quot;\\n  attr {\\n    key: &quot;T&quot;\\n    value {\\n      type: DT_FLOAT\\n    }\\n  }\\n}\\nnode {\\n  name: &quot;conv1/conv1d/ExpandDims_1/dim&quot;\\n  op: &quot;Const&quot;\\n  attr {\\n    key: &quot;dtype&quot;\\n    value {\\n      type: DT_INT32\\n    }\\n  }\\n  attr {\\n    key: &quot;value&quot;\\n    value {\\n      tensor {\\n        dtype: DT_INT32\\n        tensor_shape {\\n        }\\n        int_val: 0\\n      }\\n    }\\n  }\\n}\\nnode {\\n  name: &quot;conv1/conv1d/ExpandDims_1&quot;\\n  op: &quot;ExpandDims&quot;\\n  input: &quot;conv1/conv1d/ExpandDims_1/ReadVariableOp&quot;\\n  input: &quot;conv1/conv1d/ExpandDims_1/dim&quot;\\n  attr {\\n    key: &quot;T&quot;\\n    value {\\n      type: DT_FLOAT\\n    }\\n  }\\n  attr {\\n    key: &quot;Tdim&quot;\\n    value {\\n      type: DT_INT32\\n    }\\n  }\\n}\\nnode {\\n  name: &quot;conv1/conv1d/Conv2D&quot;\\n  op: &quot;Conv2D&quot;\\n  input: &quot;conv1/conv1d/ExpandDims&quot;\\n  input: &quot;conv1/conv1d/ExpandDims_1&quot;\\n  attr {\\n    key: &quot;T&quot;\\n    value {\\n      type: DT_FLOAT\\n    }\\n  }\\n  attr {\\n    key: &quot;data_format&quot;\\n    value {\\n      s: &quot;NHWC&quot;\\n    }\\n  }\\n  attr {\\n    key: &quot;dilations&quot;\\n    value {\\n      list {\\n        i: 1\\n        i: 1\\n        i: 1\\n        i: 1\\n      }\\n    }\\n  }\\n  attr {\\n    key: &quot;padding&quot;\\n    value {\\n      s: &quot;SAME&quot;\\n    }\\n  }\\n  attr {\\n    key: &quot;strides&quot;\\n    value {\\n      list {\\n        i: 1\\n        i: 1\\n        i: 1\\n        i: 1\\n      }\\n    }\\n  }\\n  attr {\\n    key: &quot;use_cudnn_on_gpu&quot;\\n    value {\\n      b: true\\n    }\\n  }\\n}\\nnode {\\n  name: &quot;conv1/conv1d/Squeeze&quot;\\n  op: &quot;Squeeze&quot;\\n  input: &quot;conv1/conv1d/Conv2D&quot;\\n  attr {\\n    key: &quot;T&quot;\\n    value {\\n      type: DT_FLOAT\\n    }\\n  }\\n  attr {\\n    key: &quot;squeeze_dims&quot;\\n    value {\\n      list {\\n        i: 1\\n      }\\n    }\\n  }\\n}\\nnode {\\n  name: &quot;conv1/BiasAdd/ReadVariableOp&quot;\\n  op: &quot;Identity&quot;\\n  input: &quot;conv1/bias&quot;\\n  attr {\\n    key: &quot;T&quot;\\n    value {\\n      type: DT_FLOAT\\n    }\\n  }\\n}\\nnode {\\n  name: &quot;conv1/BiasAdd&quot;\\n  op: &quot;BiasAdd&quot;\\n  input: &quot;conv1/conv1d/Squeeze&quot;\\n  input: &quot;conv1/BiasAdd/ReadVariableOp&quot;\\n  attr {\\n    key: &quot;T&quot;\\n    value {\\n      type: DT_FLOAT\\n    }\\n  }\\n  attr {\\n    key: &quot;data_format&quot;\\n    value {\\n      s: &quot;NHWC&quot;\\n    }\\n  }\\n}\\nnode {\\n  name: &quot;conv1/Relu&quot;\\n  op: &quot;Relu&quot;\\n  input: &quot;conv1/BiasAdd&quot;\\n  attr {\\n    key: &quot;T&quot;\\n    value {\\n      type: DT_FLOAT\\n    }\\n  }\\n}\\nnode {\\n  name: &quot;pool1/ExpandDims/dim&quot;\\n  op: &quot;Const&quot;\\n  attr {\\n    key: &quot;dtype&quot;\\n    value {\\n      type: DT_INT32\\n    }\\n  }\\n  attr {\\n    key: &quot;value&quot;\\n    value {\\n      tensor {\\n        dtype: DT_INT32\\n        tensor_shape {\\n        }\\n        int_val: 2\\n      }\\n    }\\n  }\\n}\\nnode {\\n  name: &quot;pool1/ExpandDims&quot;\\n  op: &quot;ExpandDims&quot;\\n  input: &quot;conv1/Relu&quot;\\n  input: &quot;pool1/ExpandDims/dim&quot;\\n  attr {\\n    key: &quot;T&quot;\\n    value {\\n      type: DT_FLOAT\\n    }\\n  }\\n  attr {\\n    key: &quot;Tdim&quot;\\n    value {\\n      type: DT_INT32\\n    }\\n  }\\n}\\nnode {\\n  name: &quot;pool1/MaxPool&quot;\\n  op: &quot;MaxPool&quot;\\n  input: &quot;pool1/ExpandDims&quot;\\n  attr {\\n    key: &quot;T&quot;\\n    value {\\n      type: DT_FLOAT\\n    }\\n  }\\n  attr {\\n    key: &quot;data_format&quot;\\n    value {\\n      s: &quot;NHWC&quot;\\n    }\\n  }\\n  attr {\\n    key: &quot;ksize&quot;\\n    value {\\n      list {\\n        i: 1\\n        i: 2\\n        i: 1\\n        i: 1\\n      }\\n    }\\n  }\\n  attr {\\n    key: &quot;padding&quot;\\n    value {\\n      s: &quot;VALID&quot;\\n    }\\n  }\\n  attr {\\n    key: &quot;strides&quot;\\n    value {\\n      list {\\n        i: 1\\n        i: 2\\n        i: 1\\n        i: 1\\n      }\\n    }\\n  }\\n}\\nnode {\\n  name: &quot;pool1/Squeeze&quot;\\n  op: &quot;Squeeze&quot;\\n  input: &quot;pool1/MaxPool&quot;\\n  attr {\\n    key: &quot;T&quot;\\n    value {\\n      type: DT_FLOAT\\n    }\\n  }\\n  attr {\\n    key: &quot;squeeze_dims&quot;\\n    value {\\n      list {\\n        i: 2\\n      }\\n    }\\n  }\\n}\\nnode {\\n  name: &quot;conv2/kernel&quot;\\n  op: &quot;Const&quot;\\n  attr {\\n    key: &quot;dtype&quot;\\n    value {\\n      type: DT_FLOAT\\n    }\\n  }\\n  attr {\\n    key: &quot;value&quot;\\n    value {\\n      tensor {\\n        dtype: DT_FLOAT\\n        tensor_shape {\\n          dim {\\n            size: 3\\n          }\\n          dim {\\n            size: 100\\n          }\\n          dim {\\n            size: 64\\n          }\\n        }\\n        tensor_content: &quot;<stripped 76800 bytes>&quot;\\n      }\\n    }\\n  }\\n}\\nnode {\\n  name: &quot;conv2/bias&quot;\\n  op: &quot;Const&quot;\\n  attr {\\n    key: &quot;dtype&quot;\\n    value {\\n      type: DT_FLOAT\\n    }\\n  }\\n  attr {\\n    key: &quot;value&quot;\\n    value {\\n      tensor {\\n        dtype: DT_FLOAT\\n        tensor_shape {\\n          dim {\\n            size: 64\\n          }\\n        }\\n        tensor_content: &quot;<stripped 256 bytes>&quot;\\n      }\\n    }\\n  }\\n}\\nnode {\\n  name: &quot;conv2/conv1d/ExpandDims/dim&quot;\\n  op: &quot;Const&quot;\\n  attr {\\n    key: &quot;dtype&quot;\\n    value {\\n      type: DT_INT32\\n    }\\n  }\\n  attr {\\n    key: &quot;value&quot;\\n    value {\\n      tensor {\\n        dtype: DT_INT32\\n        tensor_shape {\\n        }\\n        int_val: 1\\n      }\\n    }\\n  }\\n}\\nnode {\\n  name: &quot;conv2/conv1d/ExpandDims&quot;\\n  op: &quot;ExpandDims&quot;\\n  input: &quot;pool1/Squeeze&quot;\\n  input: &quot;conv2/conv1d/ExpandDims/dim&quot;\\n  attr {\\n    key: &quot;T&quot;\\n    value {\\n      type: DT_FLOAT\\n    }\\n  }\\n  attr {\\n    key: &quot;Tdim&quot;\\n    value {\\n      type: DT_INT32\\n    }\\n  }\\n}\\nnode {\\n  name: &quot;conv2/conv1d/ExpandDims_1/ReadVariableOp&quot;\\n  op: &quot;Identity&quot;\\n  input: &quot;conv2/kernel&quot;\\n  attr {\\n    key: &quot;T&quot;\\n    value {\\n      type: DT_FLOAT\\n    }\\n  }\\n}\\nnode {\\n  name: &quot;conv2/conv1d/ExpandDims_1/dim&quot;\\n  op: &quot;Const&quot;\\n  attr {\\n    key: &quot;dtype&quot;\\n    value {\\n      type: DT_INT32\\n    }\\n  }\\n  attr {\\n    key: &quot;value&quot;\\n    value {\\n      tensor {\\n        dtype: DT_INT32\\n        tensor_shape {\\n        }\\n        int_val: 0\\n      }\\n    }\\n  }\\n}\\nnode {\\n  name: &quot;conv2/conv1d/ExpandDims_1&quot;\\n  op: &quot;ExpandDims&quot;\\n  input: &quot;conv2/conv1d/ExpandDims_1/ReadVariableOp&quot;\\n  input: &quot;conv2/conv1d/ExpandDims_1/dim&quot;\\n  attr {\\n    key: &quot;T&quot;\\n    value {\\n      type: DT_FLOAT\\n    }\\n  }\\n  attr {\\n    key: &quot;Tdim&quot;\\n    value {\\n      type: DT_INT32\\n    }\\n  }\\n}\\nnode {\\n  name: &quot;conv2/conv1d/Conv2D&quot;\\n  op: &quot;Conv2D&quot;\\n  input: &quot;conv2/conv1d/ExpandDims&quot;\\n  input: &quot;conv2/conv1d/ExpandDims_1&quot;\\n  attr {\\n    key: &quot;T&quot;\\n    value {\\n      type: DT_FLOAT\\n    }\\n  }\\n  attr {\\n    key: &quot;data_format&quot;\\n    value {\\n      s: &quot;NHWC&quot;\\n    }\\n  }\\n  attr {\\n    key: &quot;dilations&quot;\\n    value {\\n      list {\\n        i: 1\\n        i: 1\\n        i: 1\\n        i: 1\\n      }\\n    }\\n  }\\n  attr {\\n    key: &quot;padding&quot;\\n    value {\\n      s: &quot;SAME&quot;\\n    }\\n  }\\n  attr {\\n    key: &quot;strides&quot;\\n    value {\\n      list {\\n        i: 1\\n        i: 1\\n        i: 1\\n        i: 1\\n      }\\n    }\\n  }\\n  attr {\\n    key: &quot;use_cudnn_on_gpu&quot;\\n    value {\\n      b: true\\n    }\\n  }\\n}\\nnode {\\n  name: &quot;conv2/conv1d/Squeeze&quot;\\n  op: &quot;Squeeze&quot;\\n  input: &quot;conv2/conv1d/Conv2D&quot;\\n  attr {\\n    key: &quot;T&quot;\\n    value {\\n      type: DT_FLOAT\\n    }\\n  }\\n  attr {\\n    key: &quot;squeeze_dims&quot;\\n    value {\\n      list {\\n        i: 1\\n      }\\n    }\\n  }\\n}\\nnode {\\n  name: &quot;conv2/BiasAdd/ReadVariableOp&quot;\\n  op: &quot;Identity&quot;\\n  input: &quot;conv2/bias&quot;\\n  attr {\\n    key: &quot;T&quot;\\n    value {\\n      type: DT_FLOAT\\n    }\\n  }\\n}\\nnode {\\n  name: &quot;conv2/BiasAdd&quot;\\n  op: &quot;BiasAdd&quot;\\n  input: &quot;conv2/conv1d/Squeeze&quot;\\n  input: &quot;conv2/BiasAdd/ReadVariableOp&quot;\\n  attr {\\n    key: &quot;T&quot;\\n    value {\\n      type: DT_FLOAT\\n    }\\n  }\\n  attr {\\n    key: &quot;data_format&quot;\\n    value {\\n      s: &quot;NHWC&quot;\\n    }\\n  }\\n}\\nnode {\\n  name: &quot;conv2/Relu&quot;\\n  op: &quot;Relu&quot;\\n  input: &quot;conv2/BiasAdd&quot;\\n  attr {\\n    key: &quot;T&quot;\\n    value {\\n      type: DT_FLOAT\\n    }\\n  }\\n}\\nnode {\\n  name: &quot;pool2/ExpandDims/dim&quot;\\n  op: &quot;Const&quot;\\n  attr {\\n    key: &quot;dtype&quot;\\n    value {\\n      type: DT_INT32\\n    }\\n  }\\n  attr {\\n    key: &quot;value&quot;\\n    value {\\n      tensor {\\n        dtype: DT_INT32\\n        tensor_shape {\\n        }\\n        int_val: 2\\n      }\\n    }\\n  }\\n}\\nnode {\\n  name: &quot;pool2/ExpandDims&quot;\\n  op: &quot;ExpandDims&quot;\\n  input: &quot;conv2/Relu&quot;\\n  input: &quot;pool2/ExpandDims/dim&quot;\\n  attr {\\n    key: &quot;T&quot;\\n    value {\\n      type: DT_FLOAT\\n    }\\n  }\\n  attr {\\n    key: &quot;Tdim&quot;\\n    value {\\n      type: DT_INT32\\n    }\\n  }\\n}\\nnode {\\n  name: &quot;pool2/MaxPool&quot;\\n  op: &quot;MaxPool&quot;\\n  input: &quot;pool2/ExpandDims&quot;\\n  attr {\\n    key: &quot;T&quot;\\n    value {\\n      type: DT_FLOAT\\n    }\\n  }\\n  attr {\\n    key: &quot;data_format&quot;\\n    value {\\n      s: &quot;NHWC&quot;\\n    }\\n  }\\n  attr {\\n    key: &quot;ksize&quot;\\n    value {\\n      list {\\n        i: 1\\n        i: 2\\n        i: 1\\n        i: 1\\n      }\\n    }\\n  }\\n  attr {\\n    key: &quot;padding&quot;\\n    value {\\n      s: &quot;VALID&quot;\\n    }\\n  }\\n  attr {\\n    key: &quot;strides&quot;\\n    value {\\n      list {\\n        i: 1\\n        i: 2\\n        i: 1\\n        i: 1\\n      }\\n    }\\n  }\\n}\\nnode {\\n  name: &quot;pool2/Squeeze&quot;\\n  op: &quot;Squeeze&quot;\\n  input: &quot;pool2/MaxPool&quot;\\n  attr {\\n    key: &quot;T&quot;\\n    value {\\n      type: DT_FLOAT\\n    }\\n  }\\n  attr {\\n    key: &quot;squeeze_dims&quot;\\n    value {\\n      list {\\n        i: 2\\n      }\\n    }\\n  }\\n}\\nnode {\\n  name: &quot;conv3/kernel&quot;\\n  op: &quot;Const&quot;\\n  attr {\\n    key: &quot;dtype&quot;\\n    value {\\n      type: DT_FLOAT\\n    }\\n  }\\n  attr {\\n    key: &quot;value&quot;\\n    value {\\n      tensor {\\n        dtype: DT_FLOAT\\n        tensor_shape {\\n          dim {\\n            size: 3\\n          }\\n          dim {\\n            size: 64\\n          }\\n          dim {\\n            size: 128\\n          }\\n        }\\n        tensor_content: &quot;<stripped 98304 bytes>&quot;\\n      }\\n    }\\n  }\\n}\\nnode {\\n  name: &quot;conv3/bias&quot;\\n  op: &quot;Const&quot;\\n  attr {\\n    key: &quot;dtype&quot;\\n    value {\\n      type: DT_FLOAT\\n    }\\n  }\\n  attr {\\n    key: &quot;value&quot;\\n    value {\\n      tensor {\\n        dtype: DT_FLOAT\\n        tensor_shape {\\n          dim {\\n            size: 128\\n          }\\n        }\\n        tensor_content: &quot;<stripped 512 bytes>&quot;\\n      }\\n    }\\n  }\\n}\\nnode {\\n  name: &quot;conv3/conv1d/ExpandDims/dim&quot;\\n  op: &quot;Const&quot;\\n  attr {\\n    key: &quot;dtype&quot;\\n    value {\\n      type: DT_INT32\\n    }\\n  }\\n  attr {\\n    key: &quot;value&quot;\\n    value {\\n      tensor {\\n        dtype: DT_INT32\\n        tensor_shape {\\n        }\\n        int_val: 1\\n      }\\n    }\\n  }\\n}\\nnode {\\n  name: &quot;conv3/conv1d/ExpandDims&quot;\\n  op: &quot;ExpandDims&quot;\\n  input: &quot;pool2/Squeeze&quot;\\n  input: &quot;conv3/conv1d/ExpandDims/dim&quot;\\n  attr {\\n    key: &quot;T&quot;\\n    value {\\n      type: DT_FLOAT\\n    }\\n  }\\n  attr {\\n    key: &quot;Tdim&quot;\\n    value {\\n      type: DT_INT32\\n    }\\n  }\\n}\\nnode {\\n  name: &quot;conv3/conv1d/ExpandDims_1/ReadVariableOp&quot;\\n  op: &quot;Identity&quot;\\n  input: &quot;conv3/kernel&quot;\\n  attr {\\n    key: &quot;T&quot;\\n    value {\\n      type: DT_FLOAT\\n    }\\n  }\\n}\\nnode {\\n  name: &quot;conv3/conv1d/ExpandDims_1/dim&quot;\\n  op: &quot;Const&quot;\\n  attr {\\n    key: &quot;dtype&quot;\\n    value {\\n      type: DT_INT32\\n    }\\n  }\\n  attr {\\n    key: &quot;value&quot;\\n    value {\\n      tensor {\\n        dtype: DT_INT32\\n        tensor_shape {\\n        }\\n        int_val: 0\\n      }\\n    }\\n  }\\n}\\nnode {\\n  name: &quot;conv3/conv1d/ExpandDims_1&quot;\\n  op: &quot;ExpandDims&quot;\\n  input: &quot;conv3/conv1d/ExpandDims_1/ReadVariableOp&quot;\\n  input: &quot;conv3/conv1d/ExpandDims_1/dim&quot;\\n  attr {\\n    key: &quot;T&quot;\\n    value {\\n      type: DT_FLOAT\\n    }\\n  }\\n  attr {\\n    key: &quot;Tdim&quot;\\n    value {\\n      type: DT_INT32\\n    }\\n  }\\n}\\nnode {\\n  name: &quot;conv3/conv1d/Conv2D&quot;\\n  op: &quot;Conv2D&quot;\\n  input: &quot;conv3/conv1d/ExpandDims&quot;\\n  input: &quot;conv3/conv1d/ExpandDims_1&quot;\\n  attr {\\n    key: &quot;T&quot;\\n    value {\\n      type: DT_FLOAT\\n    }\\n  }\\n  attr {\\n    key: &quot;data_format&quot;\\n    value {\\n      s: &quot;NHWC&quot;\\n    }\\n  }\\n  attr {\\n    key: &quot;dilations&quot;\\n    value {\\n      list {\\n        i: 1\\n        i: 1\\n        i: 1\\n        i: 1\\n      }\\n    }\\n  }\\n  attr {\\n    key: &quot;padding&quot;\\n    value {\\n      s: &quot;SAME&quot;\\n    }\\n  }\\n  attr {\\n    key: &quot;strides&quot;\\n    value {\\n      list {\\n        i: 1\\n        i: 1\\n        i: 1\\n        i: 1\\n      }\\n    }\\n  }\\n  attr {\\n    key: &quot;use_cudnn_on_gpu&quot;\\n    value {\\n      b: true\\n    }\\n  }\\n}\\nnode {\\n  name: &quot;conv3/conv1d/Squeeze&quot;\\n  op: &quot;Squeeze&quot;\\n  input: &quot;conv3/conv1d/Conv2D&quot;\\n  attr {\\n    key: &quot;T&quot;\\n    value {\\n      type: DT_FLOAT\\n    }\\n  }\\n  attr {\\n    key: &quot;squeeze_dims&quot;\\n    value {\\n      list {\\n        i: 1\\n      }\\n    }\\n  }\\n}\\nnode {\\n  name: &quot;conv3/BiasAdd/ReadVariableOp&quot;\\n  op: &quot;Identity&quot;\\n  input: &quot;conv3/bias&quot;\\n  attr {\\n    key: &quot;T&quot;\\n    value {\\n      type: DT_FLOAT\\n    }\\n  }\\n}\\nnode {\\n  name: &quot;conv3/BiasAdd&quot;\\n  op: &quot;BiasAdd&quot;\\n  input: &quot;conv3/conv1d/Squeeze&quot;\\n  input: &quot;conv3/BiasAdd/ReadVariableOp&quot;\\n  attr {\\n    key: &quot;T&quot;\\n    value {\\n      type: DT_FLOAT\\n    }\\n  }\\n  attr {\\n    key: &quot;data_format&quot;\\n    value {\\n      s: &quot;NHWC&quot;\\n    }\\n  }\\n}\\nnode {\\n  name: &quot;conv3/Relu&quot;\\n  op: &quot;Relu&quot;\\n  input: &quot;conv3/BiasAdd&quot;\\n  attr {\\n    key: &quot;T&quot;\\n    value {\\n      type: DT_FLOAT\\n    }\\n  }\\n}\\nnode {\\n  name: &quot;pool3/ExpandDims/dim&quot;\\n  op: &quot;Const&quot;\\n  attr {\\n    key: &quot;dtype&quot;\\n    value {\\n      type: DT_INT32\\n    }\\n  }\\n  attr {\\n    key: &quot;value&quot;\\n    value {\\n      tensor {\\n        dtype: DT_INT32\\n        tensor_shape {\\n        }\\n        int_val: 2\\n      }\\n    }\\n  }\\n}\\nnode {\\n  name: &quot;pool3/ExpandDims&quot;\\n  op: &quot;ExpandDims&quot;\\n  input: &quot;conv3/Relu&quot;\\n  input: &quot;pool3/ExpandDims/dim&quot;\\n  attr {\\n    key: &quot;T&quot;\\n    value {\\n      type: DT_FLOAT\\n    }\\n  }\\n  attr {\\n    key: &quot;Tdim&quot;\\n    value {\\n      type: DT_INT32\\n    }\\n  }\\n}\\nnode {\\n  name: &quot;pool3/MaxPool&quot;\\n  op: &quot;MaxPool&quot;\\n  input: &quot;pool3/ExpandDims&quot;\\n  attr {\\n    key: &quot;T&quot;\\n    value {\\n      type: DT_FLOAT\\n    }\\n  }\\n  attr {\\n    key: &quot;data_format&quot;\\n    value {\\n      s: &quot;NHWC&quot;\\n    }\\n  }\\n  attr {\\n    key: &quot;ksize&quot;\\n    value {\\n      list {\\n        i: 1\\n        i: 2\\n        i: 1\\n        i: 1\\n      }\\n    }\\n  }\\n  attr {\\n    key: &quot;padding&quot;\\n    value {\\n      s: &quot;VALID&quot;\\n    }\\n  }\\n  attr {\\n    key: &quot;strides&quot;\\n    value {\\n      list {\\n        i: 1\\n        i: 2\\n        i: 1\\n        i: 1\\n      }\\n    }\\n  }\\n}\\nnode {\\n  name: &quot;pool3/Squeeze&quot;\\n  op: &quot;Squeeze&quot;\\n  input: &quot;pool3/MaxPool&quot;\\n  attr {\\n    key: &quot;T&quot;\\n    value {\\n      type: DT_FLOAT\\n    }\\n  }\\n  attr {\\n    key: &quot;squeeze_dims&quot;\\n    value {\\n      list {\\n        i: 2\\n      }\\n    }\\n  }\\n}\\nnode {\\n  name: &quot;conv4/kernel&quot;\\n  op: &quot;Const&quot;\\n  attr {\\n    key: &quot;dtype&quot;\\n    value {\\n      type: DT_FLOAT\\n    }\\n  }\\n  attr {\\n    key: &quot;value&quot;\\n    value {\\n      tensor {\\n        dtype: DT_FLOAT\\n        tensor_shape {\\n          dim {\\n            size: 3\\n          }\\n          dim {\\n            size: 128\\n          }\\n          dim {\\n            size: 128\\n          }\\n        }\\n        tensor_content: &quot;<stripped 196608 bytes>&quot;\\n      }\\n    }\\n  }\\n}\\nnode {\\n  name: &quot;conv4/bias&quot;\\n  op: &quot;Const&quot;\\n  attr {\\n    key: &quot;dtype&quot;\\n    value {\\n      type: DT_FLOAT\\n    }\\n  }\\n  attr {\\n    key: &quot;value&quot;\\n    value {\\n      tensor {\\n        dtype: DT_FLOAT\\n        tensor_shape {\\n          dim {\\n            size: 128\\n          }\\n        }\\n        tensor_content: &quot;<stripped 512 bytes>&quot;\\n      }\\n    }\\n  }\\n}\\nnode {\\n  name: &quot;conv4/conv1d/ExpandDims/dim&quot;\\n  op: &quot;Const&quot;\\n  attr {\\n    key: &quot;dtype&quot;\\n    value {\\n      type: DT_INT32\\n    }\\n  }\\n  attr {\\n    key: &quot;value&quot;\\n    value {\\n      tensor {\\n        dtype: DT_INT32\\n        tensor_shape {\\n        }\\n        int_val: 1\\n      }\\n    }\\n  }\\n}\\nnode {\\n  name: &quot;conv4/conv1d/ExpandDims&quot;\\n  op: &quot;ExpandDims&quot;\\n  input: &quot;pool3/Squeeze&quot;\\n  input: &quot;conv4/conv1d/ExpandDims/dim&quot;\\n  attr {\\n    key: &quot;T&quot;\\n    value {\\n      type: DT_FLOAT\\n    }\\n  }\\n  attr {\\n    key: &quot;Tdim&quot;\\n    value {\\n      type: DT_INT32\\n    }\\n  }\\n}\\nnode {\\n  name: &quot;conv4/conv1d/ExpandDims_1/ReadVariableOp&quot;\\n  op: &quot;Identity&quot;\\n  input: &quot;conv4/kernel&quot;\\n  attr {\\n    key: &quot;T&quot;\\n    value {\\n      type: DT_FLOAT\\n    }\\n  }\\n}\\nnode {\\n  name: &quot;conv4/conv1d/ExpandDims_1/dim&quot;\\n  op: &quot;Const&quot;\\n  attr {\\n    key: &quot;dtype&quot;\\n    value {\\n      type: DT_INT32\\n    }\\n  }\\n  attr {\\n    key: &quot;value&quot;\\n    value {\\n      tensor {\\n        dtype: DT_INT32\\n        tensor_shape {\\n        }\\n        int_val: 0\\n      }\\n    }\\n  }\\n}\\nnode {\\n  name: &quot;conv4/conv1d/ExpandDims_1&quot;\\n  op: &quot;ExpandDims&quot;\\n  input: &quot;conv4/conv1d/ExpandDims_1/ReadVariableOp&quot;\\n  input: &quot;conv4/conv1d/ExpandDims_1/dim&quot;\\n  attr {\\n    key: &quot;T&quot;\\n    value {\\n      type: DT_FLOAT\\n    }\\n  }\\n  attr {\\n    key: &quot;Tdim&quot;\\n    value {\\n      type: DT_INT32\\n    }\\n  }\\n}\\nnode {\\n  name: &quot;conv4/conv1d/Conv2D&quot;\\n  op: &quot;Conv2D&quot;\\n  input: &quot;conv4/conv1d/ExpandDims&quot;\\n  input: &quot;conv4/conv1d/ExpandDims_1&quot;\\n  attr {\\n    key: &quot;T&quot;\\n    value {\\n      type: DT_FLOAT\\n    }\\n  }\\n  attr {\\n    key: &quot;data_format&quot;\\n    value {\\n      s: &quot;NHWC&quot;\\n    }\\n  }\\n  attr {\\n    key: &quot;dilations&quot;\\n    value {\\n      list {\\n        i: 1\\n        i: 1\\n        i: 1\\n        i: 1\\n      }\\n    }\\n  }\\n  attr {\\n    key: &quot;padding&quot;\\n    value {\\n      s: &quot;SAME&quot;\\n    }\\n  }\\n  attr {\\n    key: &quot;strides&quot;\\n    value {\\n      list {\\n        i: 1\\n        i: 1\\n        i: 1\\n        i: 1\\n      }\\n    }\\n  }\\n  attr {\\n    key: &quot;use_cudnn_on_gpu&quot;\\n    value {\\n      b: true\\n    }\\n  }\\n}\\nnode {\\n  name: &quot;conv4/conv1d/Squeeze&quot;\\n  op: &quot;Squeeze&quot;\\n  input: &quot;conv4/conv1d/Conv2D&quot;\\n  attr {\\n    key: &quot;T&quot;\\n    value {\\n      type: DT_FLOAT\\n    }\\n  }\\n  attr {\\n    key: &quot;squeeze_dims&quot;\\n    value {\\n      list {\\n        i: 1\\n      }\\n    }\\n  }\\n}\\nnode {\\n  name: &quot;conv4/BiasAdd/ReadVariableOp&quot;\\n  op: &quot;Identity&quot;\\n  input: &quot;conv4/bias&quot;\\n  attr {\\n    key: &quot;T&quot;\\n    value {\\n      type: DT_FLOAT\\n    }\\n  }\\n}\\nnode {\\n  name: &quot;conv4/BiasAdd&quot;\\n  op: &quot;BiasAdd&quot;\\n  input: &quot;conv4/conv1d/Squeeze&quot;\\n  input: &quot;conv4/BiasAdd/ReadVariableOp&quot;\\n  attr {\\n    key: &quot;T&quot;\\n    value {\\n      type: DT_FLOAT\\n    }\\n  }\\n  attr {\\n    key: &quot;data_format&quot;\\n    value {\\n      s: &quot;NHWC&quot;\\n    }\\n  }\\n}\\nnode {\\n  name: &quot;conv4/Relu&quot;\\n  op: &quot;Relu&quot;\\n  input: &quot;conv4/BiasAdd&quot;\\n  attr {\\n    key: &quot;T&quot;\\n    value {\\n      type: DT_FLOAT\\n    }\\n  }\\n}\\nnode {\\n  name: &quot;pool4/ExpandDims/dim&quot;\\n  op: &quot;Const&quot;\\n  attr {\\n    key: &quot;dtype&quot;\\n    value {\\n      type: DT_INT32\\n    }\\n  }\\n  attr {\\n    key: &quot;value&quot;\\n    value {\\n      tensor {\\n        dtype: DT_INT32\\n        tensor_shape {\\n        }\\n        int_val: 2\\n      }\\n    }\\n  }\\n}\\nnode {\\n  name: &quot;pool4/ExpandDims&quot;\\n  op: &quot;ExpandDims&quot;\\n  input: &quot;conv4/Relu&quot;\\n  input: &quot;pool4/ExpandDims/dim&quot;\\n  attr {\\n    key: &quot;T&quot;\\n    value {\\n      type: DT_FLOAT\\n    }\\n  }\\n  attr {\\n    key: &quot;Tdim&quot;\\n    value {\\n      type: DT_INT32\\n    }\\n  }\\n}\\nnode {\\n  name: &quot;pool4/MaxPool&quot;\\n  op: &quot;MaxPool&quot;\\n  input: &quot;pool4/ExpandDims&quot;\\n  attr {\\n    key: &quot;T&quot;\\n    value {\\n      type: DT_FLOAT\\n    }\\n  }\\n  attr {\\n    key: &quot;data_format&quot;\\n    value {\\n      s: &quot;NHWC&quot;\\n    }\\n  }\\n  attr {\\n    key: &quot;ksize&quot;\\n    value {\\n      list {\\n        i: 1\\n        i: 2\\n        i: 1\\n        i: 1\\n      }\\n    }\\n  }\\n  attr {\\n    key: &quot;padding&quot;\\n    value {\\n      s: &quot;VALID&quot;\\n    }\\n  }\\n  attr {\\n    key: &quot;strides&quot;\\n    value {\\n      list {\\n        i: 1\\n        i: 2\\n        i: 1\\n        i: 1\\n      }\\n    }\\n  }\\n}\\nnode {\\n  name: &quot;pool4/Squeeze&quot;\\n  op: &quot;Squeeze&quot;\\n  input: &quot;pool4/MaxPool&quot;\\n  attr {\\n    key: &quot;T&quot;\\n    value {\\n      type: DT_FLOAT\\n    }\\n  }\\n  attr {\\n    key: &quot;squeeze_dims&quot;\\n    value {\\n      list {\\n        i: 2\\n      }\\n    }\\n  }\\n}\\nnode {\\n  name: &quot;conv5/kernel&quot;\\n  op: &quot;Const&quot;\\n  attr {\\n    key: &quot;dtype&quot;\\n    value {\\n      type: DT_FLOAT\\n    }\\n  }\\n  attr {\\n    key: &quot;value&quot;\\n    value {\\n      tensor {\\n        dtype: DT_FLOAT\\n        tensor_shape {\\n          dim {\\n            size: 3\\n          }\\n          dim {\\n            size: 128\\n          }\\n          dim {\\n            size: 128\\n          }\\n        }\\n        tensor_content: &quot;<stripped 196608 bytes>&quot;\\n      }\\n    }\\n  }\\n}\\nnode {\\n  name: &quot;conv5/bias&quot;\\n  op: &quot;Const&quot;\\n  attr {\\n    key: &quot;dtype&quot;\\n    value {\\n      type: DT_FLOAT\\n    }\\n  }\\n  attr {\\n    key: &quot;value&quot;\\n    value {\\n      tensor {\\n        dtype: DT_FLOAT\\n        tensor_shape {\\n          dim {\\n            size: 128\\n          }\\n        }\\n        tensor_content: &quot;<stripped 512 bytes>&quot;\\n      }\\n    }\\n  }\\n}\\nnode {\\n  name: &quot;conv5/conv1d/ExpandDims/dim&quot;\\n  op: &quot;Const&quot;\\n  attr {\\n    key: &quot;dtype&quot;\\n    value {\\n      type: DT_INT32\\n    }\\n  }\\n  attr {\\n    key: &quot;value&quot;\\n    value {\\n      tensor {\\n        dtype: DT_INT32\\n        tensor_shape {\\n        }\\n        int_val: 1\\n      }\\n    }\\n  }\\n}\\nnode {\\n  name: &quot;conv5/conv1d/ExpandDims&quot;\\n  op: &quot;ExpandDims&quot;\\n  input: &quot;pool4/Squeeze&quot;\\n  input: &quot;conv5/conv1d/ExpandDims/dim&quot;\\n  attr {\\n    key: &quot;T&quot;\\n    value {\\n      type: DT_FLOAT\\n    }\\n  }\\n  attr {\\n    key: &quot;Tdim&quot;\\n    value {\\n      type: DT_INT32\\n    }\\n  }\\n}\\nnode {\\n  name: &quot;conv5/conv1d/ExpandDims_1/ReadVariableOp&quot;\\n  op: &quot;Identity&quot;\\n  input: &quot;conv5/kernel&quot;\\n  attr {\\n    key: &quot;T&quot;\\n    value {\\n      type: DT_FLOAT\\n    }\\n  }\\n}\\nnode {\\n  name: &quot;conv5/conv1d/ExpandDims_1/dim&quot;\\n  op: &quot;Const&quot;\\n  attr {\\n    key: &quot;dtype&quot;\\n    value {\\n      type: DT_INT32\\n    }\\n  }\\n  attr {\\n    key: &quot;value&quot;\\n    value {\\n      tensor {\\n        dtype: DT_INT32\\n        tensor_shape {\\n        }\\n        int_val: 0\\n      }\\n    }\\n  }\\n}\\nnode {\\n  name: &quot;conv5/conv1d/ExpandDims_1&quot;\\n  op: &quot;ExpandDims&quot;\\n  input: &quot;conv5/conv1d/ExpandDims_1/ReadVariableOp&quot;\\n  input: &quot;conv5/conv1d/ExpandDims_1/dim&quot;\\n  attr {\\n    key: &quot;T&quot;\\n    value {\\n      type: DT_FLOAT\\n    }\\n  }\\n  attr {\\n    key: &quot;Tdim&quot;\\n    value {\\n      type: DT_INT32\\n    }\\n  }\\n}\\nnode {\\n  name: &quot;conv5/conv1d/Conv2D&quot;\\n  op: &quot;Conv2D&quot;\\n  input: &quot;conv5/conv1d/ExpandDims&quot;\\n  input: &quot;conv5/conv1d/ExpandDims_1&quot;\\n  attr {\\n    key: &quot;T&quot;\\n    value {\\n      type: DT_FLOAT\\n    }\\n  }\\n  attr {\\n    key: &quot;data_format&quot;\\n    value {\\n      s: &quot;NHWC&quot;\\n    }\\n  }\\n  attr {\\n    key: &quot;dilations&quot;\\n    value {\\n      list {\\n        i: 1\\n        i: 1\\n        i: 1\\n        i: 1\\n      }\\n    }\\n  }\\n  attr {\\n    key: &quot;padding&quot;\\n    value {\\n      s: &quot;SAME&quot;\\n    }\\n  }\\n  attr {\\n    key: &quot;strides&quot;\\n    value {\\n      list {\\n        i: 1\\n        i: 1\\n        i: 1\\n        i: 1\\n      }\\n    }\\n  }\\n  attr {\\n    key: &quot;use_cudnn_on_gpu&quot;\\n    value {\\n      b: true\\n    }\\n  }\\n}\\nnode {\\n  name: &quot;conv5/conv1d/Squeeze&quot;\\n  op: &quot;Squeeze&quot;\\n  input: &quot;conv5/conv1d/Conv2D&quot;\\n  attr {\\n    key: &quot;T&quot;\\n    value {\\n      type: DT_FLOAT\\n    }\\n  }\\n  attr {\\n    key: &quot;squeeze_dims&quot;\\n    value {\\n      list {\\n        i: 1\\n      }\\n    }\\n  }\\n}\\nnode {\\n  name: &quot;conv5/BiasAdd/ReadVariableOp&quot;\\n  op: &quot;Identity&quot;\\n  input: &quot;conv5/bias&quot;\\n  attr {\\n    key: &quot;T&quot;\\n    value {\\n      type: DT_FLOAT\\n    }\\n  }\\n}\\nnode {\\n  name: &quot;conv5/BiasAdd&quot;\\n  op: &quot;BiasAdd&quot;\\n  input: &quot;conv5/conv1d/Squeeze&quot;\\n  input: &quot;conv5/BiasAdd/ReadVariableOp&quot;\\n  attr {\\n    key: &quot;T&quot;\\n    value {\\n      type: DT_FLOAT\\n    }\\n  }\\n  attr {\\n    key: &quot;data_format&quot;\\n    value {\\n      s: &quot;NHWC&quot;\\n    }\\n  }\\n}\\nnode {\\n  name: &quot;conv5/Relu&quot;\\n  op: &quot;Relu&quot;\\n  input: &quot;conv5/BiasAdd&quot;\\n  attr {\\n    key: &quot;T&quot;\\n    value {\\n      type: DT_FLOAT\\n    }\\n  }\\n}\\nnode {\\n  name: &quot;pool5/ExpandDims/dim&quot;\\n  op: &quot;Const&quot;\\n  attr {\\n    key: &quot;dtype&quot;\\n    value {\\n      type: DT_INT32\\n    }\\n  }\\n  attr {\\n    key: &quot;value&quot;\\n    value {\\n      tensor {\\n        dtype: DT_INT32\\n        tensor_shape {\\n        }\\n        int_val: 2\\n      }\\n    }\\n  }\\n}\\nnode {\\n  name: &quot;pool5/ExpandDims&quot;\\n  op: &quot;ExpandDims&quot;\\n  input: &quot;conv5/Relu&quot;\\n  input: &quot;pool5/ExpandDims/dim&quot;\\n  attr {\\n    key: &quot;T&quot;\\n    value {\\n      type: DT_FLOAT\\n    }\\n  }\\n  attr {\\n    key: &quot;Tdim&quot;\\n    value {\\n      type: DT_INT32\\n    }\\n  }\\n}\\nnode {\\n  name: &quot;pool5/MaxPool&quot;\\n  op: &quot;MaxPool&quot;\\n  input: &quot;pool5/ExpandDims&quot;\\n  attr {\\n    key: &quot;T&quot;\\n    value {\\n      type: DT_FLOAT\\n    }\\n  }\\n  attr {\\n    key: &quot;data_format&quot;\\n    value {\\n      s: &quot;NHWC&quot;\\n    }\\n  }\\n  attr {\\n    key: &quot;ksize&quot;\\n    value {\\n      list {\\n        i: 1\\n        i: 2\\n        i: 1\\n        i: 1\\n      }\\n    }\\n  }\\n  attr {\\n    key: &quot;padding&quot;\\n    value {\\n      s: &quot;VALID&quot;\\n    }\\n  }\\n  attr {\\n    key: &quot;strides&quot;\\n    value {\\n      list {\\n        i: 1\\n        i: 2\\n        i: 1\\n        i: 1\\n      }\\n    }\\n  }\\n}\\nnode {\\n  name: &quot;pool5/Squeeze&quot;\\n  op: &quot;Squeeze&quot;\\n  input: &quot;pool5/MaxPool&quot;\\n  attr {\\n    key: &quot;T&quot;\\n    value {\\n      type: DT_FLOAT\\n    }\\n  }\\n  attr {\\n    key: &quot;squeeze_dims&quot;\\n    value {\\n      list {\\n        i: 2\\n      }\\n    }\\n  }\\n}\\nnode {\\n  name: &quot;conv6/kernel&quot;\\n  op: &quot;Const&quot;\\n  attr {\\n    key: &quot;dtype&quot;\\n    value {\\n      type: DT_FLOAT\\n    }\\n  }\\n  attr {\\n    key: &quot;value&quot;\\n    value {\\n      tensor {\\n        dtype: DT_FLOAT\\n        tensor_shape {\\n          dim {\\n            size: 3\\n          }\\n          dim {\\n            size: 128\\n          }\\n          dim {\\n            size: 128\\n          }\\n        }\\n        tensor_content: &quot;<stripped 196608 bytes>&quot;\\n      }\\n    }\\n  }\\n}\\nnode {\\n  name: &quot;conv6/bias&quot;\\n  op: &quot;Const&quot;\\n  attr {\\n    key: &quot;dtype&quot;\\n    value {\\n      type: DT_FLOAT\\n    }\\n  }\\n  attr {\\n    key: &quot;value&quot;\\n    value {\\n      tensor {\\n        dtype: DT_FLOAT\\n        tensor_shape {\\n          dim {\\n            size: 128\\n          }\\n        }\\n        tensor_content: &quot;<stripped 512 bytes>&quot;\\n      }\\n    }\\n  }\\n}\\nnode {\\n  name: &quot;conv6/conv1d/ExpandDims/dim&quot;\\n  op: &quot;Const&quot;\\n  attr {\\n    key: &quot;dtype&quot;\\n    value {\\n      type: DT_INT32\\n    }\\n  }\\n  attr {\\n    key: &quot;value&quot;\\n    value {\\n      tensor {\\n        dtype: DT_INT32\\n        tensor_shape {\\n        }\\n        int_val: 1\\n      }\\n    }\\n  }\\n}\\nnode {\\n  name: &quot;conv6/conv1d/ExpandDims&quot;\\n  op: &quot;ExpandDims&quot;\\n  input: &quot;pool5/Squeeze&quot;\\n  input: &quot;conv6/conv1d/ExpandDims/dim&quot;\\n  attr {\\n    key: &quot;T&quot;\\n    value {\\n      type: DT_FLOAT\\n    }\\n  }\\n  attr {\\n    key: &quot;Tdim&quot;\\n    value {\\n      type: DT_INT32\\n    }\\n  }\\n}\\nnode {\\n  name: &quot;conv6/conv1d/ExpandDims_1/ReadVariableOp&quot;\\n  op: &quot;Identity&quot;\\n  input: &quot;conv6/kernel&quot;\\n  attr {\\n    key: &quot;T&quot;\\n    value {\\n      type: DT_FLOAT\\n    }\\n  }\\n}\\nnode {\\n  name: &quot;conv6/conv1d/ExpandDims_1/dim&quot;\\n  op: &quot;Const&quot;\\n  attr {\\n    key: &quot;dtype&quot;\\n    value {\\n      type: DT_INT32\\n    }\\n  }\\n  attr {\\n    key: &quot;value&quot;\\n    value {\\n      tensor {\\n        dtype: DT_INT32\\n        tensor_shape {\\n        }\\n        int_val: 0\\n      }\\n    }\\n  }\\n}\\nnode {\\n  name: &quot;conv6/conv1d/ExpandDims_1&quot;\\n  op: &quot;ExpandDims&quot;\\n  input: &quot;conv6/conv1d/ExpandDims_1/ReadVariableOp&quot;\\n  input: &quot;conv6/conv1d/ExpandDims_1/dim&quot;\\n  attr {\\n    key: &quot;T&quot;\\n    value {\\n      type: DT_FLOAT\\n    }\\n  }\\n  attr {\\n    key: &quot;Tdim&quot;\\n    value {\\n      type: DT_INT32\\n    }\\n  }\\n}\\nnode {\\n  name: &quot;conv6/conv1d/Conv2D&quot;\\n  op: &quot;Conv2D&quot;\\n  input: &quot;conv6/conv1d/ExpandDims&quot;\\n  input: &quot;conv6/conv1d/ExpandDims_1&quot;\\n  attr {\\n    key: &quot;T&quot;\\n    value {\\n      type: DT_FLOAT\\n    }\\n  }\\n  attr {\\n    key: &quot;data_format&quot;\\n    value {\\n      s: &quot;NHWC&quot;\\n    }\\n  }\\n  attr {\\n    key: &quot;dilations&quot;\\n    value {\\n      list {\\n        i: 1\\n        i: 1\\n        i: 1\\n        i: 1\\n      }\\n    }\\n  }\\n  attr {\\n    key: &quot;padding&quot;\\n    value {\\n      s: &quot;SAME&quot;\\n    }\\n  }\\n  attr {\\n    key: &quot;strides&quot;\\n    value {\\n      list {\\n        i: 1\\n        i: 1\\n        i: 1\\n        i: 1\\n      }\\n    }\\n  }\\n  attr {\\n    key: &quot;use_cudnn_on_gpu&quot;\\n    value {\\n      b: true\\n    }\\n  }\\n}\\nnode {\\n  name: &quot;conv6/conv1d/Squeeze&quot;\\n  op: &quot;Squeeze&quot;\\n  input: &quot;conv6/conv1d/Conv2D&quot;\\n  attr {\\n    key: &quot;T&quot;\\n    value {\\n      type: DT_FLOAT\\n    }\\n  }\\n  attr {\\n    key: &quot;squeeze_dims&quot;\\n    value {\\n      list {\\n        i: 1\\n      }\\n    }\\n  }\\n}\\nnode {\\n  name: &quot;conv6/BiasAdd/ReadVariableOp&quot;\\n  op: &quot;Identity&quot;\\n  input: &quot;conv6/bias&quot;\\n  attr {\\n    key: &quot;T&quot;\\n    value {\\n      type: DT_FLOAT\\n    }\\n  }\\n}\\nnode {\\n  name: &quot;conv6/BiasAdd&quot;\\n  op: &quot;BiasAdd&quot;\\n  input: &quot;conv6/conv1d/Squeeze&quot;\\n  input: &quot;conv6/BiasAdd/ReadVariableOp&quot;\\n  attr {\\n    key: &quot;T&quot;\\n    value {\\n      type: DT_FLOAT\\n    }\\n  }\\n  attr {\\n    key: &quot;data_format&quot;\\n    value {\\n      s: &quot;NHWC&quot;\\n    }\\n  }\\n}\\nnode {\\n  name: &quot;conv6/Relu&quot;\\n  op: &quot;Relu&quot;\\n  input: &quot;conv6/BiasAdd&quot;\\n  attr {\\n    key: &quot;T&quot;\\n    value {\\n      type: DT_FLOAT\\n    }\\n  }\\n}\\nnode {\\n  name: &quot;pool6/ExpandDims/dim&quot;\\n  op: &quot;Const&quot;\\n  attr {\\n    key: &quot;dtype&quot;\\n    value {\\n      type: DT_INT32\\n    }\\n  }\\n  attr {\\n    key: &quot;value&quot;\\n    value {\\n      tensor {\\n        dtype: DT_INT32\\n        tensor_shape {\\n        }\\n        int_val: 2\\n      }\\n    }\\n  }\\n}\\nnode {\\n  name: &quot;pool6/ExpandDims&quot;\\n  op: &quot;ExpandDims&quot;\\n  input: &quot;conv6/Relu&quot;\\n  input: &quot;pool6/ExpandDims/dim&quot;\\n  attr {\\n    key: &quot;T&quot;\\n    value {\\n      type: DT_FLOAT\\n    }\\n  }\\n  attr {\\n    key: &quot;Tdim&quot;\\n    value {\\n      type: DT_INT32\\n    }\\n  }\\n}\\nnode {\\n  name: &quot;pool6/MaxPool&quot;\\n  op: &quot;MaxPool&quot;\\n  input: &quot;pool6/ExpandDims&quot;\\n  attr {\\n    key: &quot;T&quot;\\n    value {\\n      type: DT_FLOAT\\n    }\\n  }\\n  attr {\\n    key: &quot;data_format&quot;\\n    value {\\n      s: &quot;NHWC&quot;\\n    }\\n  }\\n  attr {\\n    key: &quot;ksize&quot;\\n    value {\\n      list {\\n        i: 1\\n        i: 2\\n        i: 1\\n        i: 1\\n      }\\n    }\\n  }\\n  attr {\\n    key: &quot;padding&quot;\\n    value {\\n      s: &quot;VALID&quot;\\n    }\\n  }\\n  attr {\\n    key: &quot;strides&quot;\\n    value {\\n      list {\\n        i: 1\\n        i: 2\\n        i: 1\\n        i: 1\\n      }\\n    }\\n  }\\n}\\nnode {\\n  name: &quot;pool6/Squeeze&quot;\\n  op: &quot;Squeeze&quot;\\n  input: &quot;pool6/MaxPool&quot;\\n  attr {\\n    key: &quot;T&quot;\\n    value {\\n      type: DT_FLOAT\\n    }\\n  }\\n  attr {\\n    key: &quot;squeeze_dims&quot;\\n    value {\\n      list {\\n        i: 2\\n      }\\n    }\\n  }\\n}\\nnode {\\n  name: &quot;flatten/Shape&quot;\\n  op: &quot;Shape&quot;\\n  input: &quot;pool6/Squeeze&quot;\\n  attr {\\n    key: &quot;T&quot;\\n    value {\\n      type: DT_FLOAT\\n    }\\n  }\\n  attr {\\n    key: &quot;out_type&quot;\\n    value {\\n      type: DT_INT32\\n    }\\n  }\\n}\\nnode {\\n  name: &quot;flatten/strided_slice/stack&quot;\\n  op: &quot;Const&quot;\\n  attr {\\n    key: &quot;dtype&quot;\\n    value {\\n      type: DT_INT32\\n    }\\n  }\\n  attr {\\n    key: &quot;value&quot;\\n    value {\\n      tensor {\\n        dtype: DT_INT32\\n        tensor_shape {\\n          dim {\\n            size: 1\\n          }\\n        }\\n        int_val: 0\\n      }\\n    }\\n  }\\n}\\nnode {\\n  name: &quot;flatten/strided_slice/stack_1&quot;\\n  op: &quot;Const&quot;\\n  attr {\\n    key: &quot;dtype&quot;\\n    value {\\n      type: DT_INT32\\n    }\\n  }\\n  attr {\\n    key: &quot;value&quot;\\n    value {\\n      tensor {\\n        dtype: DT_INT32\\n        tensor_shape {\\n          dim {\\n            size: 1\\n          }\\n        }\\n        int_val: 1\\n      }\\n    }\\n  }\\n}\\nnode {\\n  name: &quot;flatten/strided_slice/stack_2&quot;\\n  op: &quot;Const&quot;\\n  attr {\\n    key: &quot;dtype&quot;\\n    value {\\n      type: DT_INT32\\n    }\\n  }\\n  attr {\\n    key: &quot;value&quot;\\n    value {\\n      tensor {\\n        dtype: DT_INT32\\n        tensor_shape {\\n          dim {\\n            size: 1\\n          }\\n        }\\n        int_val: 1\\n      }\\n    }\\n  }\\n}\\nnode {\\n  name: &quot;flatten/strided_slice&quot;\\n  op: &quot;StridedSlice&quot;\\n  input: &quot;flatten/Shape&quot;\\n  input: &quot;flatten/strided_slice/stack&quot;\\n  input: &quot;flatten/strided_slice/stack_1&quot;\\n  input: &quot;flatten/strided_slice/stack_2&quot;\\n  attr {\\n    key: &quot;Index&quot;\\n    value {\\n      type: DT_INT32\\n    }\\n  }\\n  attr {\\n    key: &quot;T&quot;\\n    value {\\n      type: DT_INT32\\n    }\\n  }\\n  attr {\\n    key: &quot;begin_mask&quot;\\n    value {\\n      i: 0\\n    }\\n  }\\n  attr {\\n    key: &quot;ellipsis_mask&quot;\\n    value {\\n      i: 0\\n    }\\n  }\\n  attr {\\n    key: &quot;end_mask&quot;\\n    value {\\n      i: 0\\n    }\\n  }\\n  attr {\\n    key: &quot;new_axis_mask&quot;\\n    value {\\n      i: 0\\n    }\\n  }\\n  attr {\\n    key: &quot;shrink_axis_mask&quot;\\n    value {\\n      i: 1\\n    }\\n  }\\n}\\nnode {\\n  name: &quot;flatten/Reshape/shape/1&quot;\\n  op: &quot;Const&quot;\\n  attr {\\n    key: &quot;dtype&quot;\\n    value {\\n      type: DT_INT32\\n    }\\n  }\\n  attr {\\n    key: &quot;value&quot;\\n    value {\\n      tensor {\\n        dtype: DT_INT32\\n        tensor_shape {\\n        }\\n        int_val: -1\\n      }\\n    }\\n  }\\n}\\nnode {\\n  name: &quot;flatten/Reshape/shape&quot;\\n  op: &quot;Pack&quot;\\n  input: &quot;flatten/strided_slice&quot;\\n  input: &quot;flatten/Reshape/shape/1&quot;\\n  attr {\\n    key: &quot;N&quot;\\n    value {\\n      i: 2\\n    }\\n  }\\n  attr {\\n    key: &quot;T&quot;\\n    value {\\n      type: DT_INT32\\n    }\\n  }\\n  attr {\\n    key: &quot;axis&quot;\\n    value {\\n      i: 0\\n    }\\n  }\\n}\\nnode {\\n  name: &quot;flatten/Reshape&quot;\\n  op: &quot;Reshape&quot;\\n  input: &quot;pool6/Squeeze&quot;\\n  input: &quot;flatten/Reshape/shape&quot;\\n  attr {\\n    key: &quot;T&quot;\\n    value {\\n      type: DT_FLOAT\\n    }\\n  }\\n  attr {\\n    key: &quot;Tshape&quot;\\n    value {\\n      type: DT_INT32\\n    }\\n  }\\n}\\nnode {\\n  name: &quot;dense1/kernel&quot;\\n  op: &quot;Const&quot;\\n  attr {\\n    key: &quot;dtype&quot;\\n    value {\\n      type: DT_FLOAT\\n    }\\n  }\\n  attr {\\n    key: &quot;value&quot;\\n    value {\\n      tensor {\\n        dtype: DT_FLOAT\\n        tensor_shape {\\n          dim {\\n            size: 16000\\n          }\\n          dim {\\n            size: 1024\\n          }\\n        }\\n        tensor_content: &quot;<stripped 65536000 bytes>&quot;\\n      }\\n    }\\n  }\\n}\\nnode {\\n  name: &quot;dense1/bias&quot;\\n  op: &quot;Const&quot;\\n  attr {\\n    key: &quot;dtype&quot;\\n    value {\\n      type: DT_FLOAT\\n    }\\n  }\\n  attr {\\n    key: &quot;value&quot;\\n    value {\\n      tensor {\\n        dtype: DT_FLOAT\\n        tensor_shape {\\n          dim {\\n            size: 1024\\n          }\\n        }\\n        tensor_content: &quot;<stripped 4096 bytes>&quot;\\n      }\\n    }\\n  }\\n}\\nnode {\\n  name: &quot;dense1/MatMul/ReadVariableOp&quot;\\n  op: &quot;Identity&quot;\\n  input: &quot;dense1/kernel&quot;\\n  attr {\\n    key: &quot;T&quot;\\n    value {\\n      type: DT_FLOAT\\n    }\\n  }\\n}\\nnode {\\n  name: &quot;dense1/MatMul&quot;\\n  op: &quot;MatMul&quot;\\n  input: &quot;flatten/Reshape&quot;\\n  input: &quot;dense1/MatMul/ReadVariableOp&quot;\\n  attr {\\n    key: &quot;T&quot;\\n    value {\\n      type: DT_FLOAT\\n    }\\n  }\\n  attr {\\n    key: &quot;transpose_a&quot;\\n    value {\\n      b: false\\n    }\\n  }\\n  attr {\\n    key: &quot;transpose_b&quot;\\n    value {\\n      b: false\\n    }\\n  }\\n}\\nnode {\\n  name: &quot;dense1/BiasAdd/ReadVariableOp&quot;\\n  op: &quot;Identity&quot;\\n  input: &quot;dense1/bias&quot;\\n  attr {\\n    key: &quot;T&quot;\\n    value {\\n      type: DT_FLOAT\\n    }\\n  }\\n}\\nnode {\\n  name: &quot;dense1/BiasAdd&quot;\\n  op: &quot;BiasAdd&quot;\\n  input: &quot;dense1/MatMul&quot;\\n  input: &quot;dense1/BiasAdd/ReadVariableOp&quot;\\n  attr {\\n    key: &quot;T&quot;\\n    value {\\n      type: DT_FLOAT\\n    }\\n  }\\n  attr {\\n    key: &quot;data_format&quot;\\n    value {\\n      s: &quot;NHWC&quot;\\n    }\\n  }\\n}\\nnode {\\n  name: &quot;dense2/kernel&quot;\\n  op: &quot;Const&quot;\\n  attr {\\n    key: &quot;dtype&quot;\\n    value {\\n      type: DT_FLOAT\\n    }\\n  }\\n  attr {\\n    key: &quot;value&quot;\\n    value {\\n      tensor {\\n        dtype: DT_FLOAT\\n        tensor_shape {\\n          dim {\\n            size: 1024\\n          }\\n          dim {\\n            size: 512\\n          }\\n        }\\n        tensor_content: &quot;<stripped 2097152 bytes>&quot;\\n      }\\n    }\\n  }\\n}\\nnode {\\n  name: &quot;dense2/bias&quot;\\n  op: &quot;Const&quot;\\n  attr {\\n    key: &quot;dtype&quot;\\n    value {\\n      type: DT_FLOAT\\n    }\\n  }\\n  attr {\\n    key: &quot;value&quot;\\n    value {\\n      tensor {\\n        dtype: DT_FLOAT\\n        tensor_shape {\\n          dim {\\n            size: 512\\n          }\\n        }\\n        tensor_content: &quot;<stripped 2048 bytes>&quot;\\n      }\\n    }\\n  }\\n}\\nnode {\\n  name: &quot;dense2/MatMul/ReadVariableOp&quot;\\n  op: &quot;Identity&quot;\\n  input: &quot;dense2/kernel&quot;\\n  attr {\\n    key: &quot;T&quot;\\n    value {\\n      type: DT_FLOAT\\n    }\\n  }\\n}\\nnode {\\n  name: &quot;dense2/MatMul&quot;\\n  op: &quot;MatMul&quot;\\n  input: &quot;dense1/BiasAdd&quot;\\n  input: &quot;dense2/MatMul/ReadVariableOp&quot;\\n  attr {\\n    key: &quot;T&quot;\\n    value {\\n      type: DT_FLOAT\\n    }\\n  }\\n  attr {\\n    key: &quot;transpose_a&quot;\\n    value {\\n      b: false\\n    }\\n  }\\n  attr {\\n    key: &quot;transpose_b&quot;\\n    value {\\n      b: false\\n    }\\n  }\\n}\\nnode {\\n  name: &quot;dense2/BiasAdd/ReadVariableOp&quot;\\n  op: &quot;Identity&quot;\\n  input: &quot;dense2/bias&quot;\\n  attr {\\n    key: &quot;T&quot;\\n    value {\\n      type: DT_FLOAT\\n    }\\n  }\\n}\\nnode {\\n  name: &quot;dense2/BiasAdd&quot;\\n  op: &quot;BiasAdd&quot;\\n  input: &quot;dense2/MatMul&quot;\\n  input: &quot;dense2/BiasAdd/ReadVariableOp&quot;\\n  attr {\\n    key: &quot;T&quot;\\n    value {\\n      type: DT_FLOAT\\n    }\\n  }\\n  attr {\\n    key: &quot;data_format&quot;\\n    value {\\n      s: &quot;NHWC&quot;\\n    }\\n  }\\n}\\nnode {\\n  name: &quot;dense3/kernel&quot;\\n  op: &quot;Const&quot;\\n  attr {\\n    key: &quot;dtype&quot;\\n    value {\\n      type: DT_FLOAT\\n    }\\n  }\\n  attr {\\n    key: &quot;value&quot;\\n    value {\\n      tensor {\\n        dtype: DT_FLOAT\\n        tensor_shape {\\n          dim {\\n            size: 512\\n          }\\n          dim {\\n            size: 10\\n          }\\n        }\\n        tensor_content: &quot;<stripped 20480 bytes>&quot;\\n      }\\n    }\\n  }\\n}\\nnode {\\n  name: &quot;dense3/bias&quot;\\n  op: &quot;Const&quot;\\n  attr {\\n    key: &quot;dtype&quot;\\n    value {\\n      type: DT_FLOAT\\n    }\\n  }\\n  attr {\\n    key: &quot;value&quot;\\n    value {\\n      tensor {\\n        dtype: DT_FLOAT\\n        tensor_shape {\\n          dim {\\n            size: 10\\n          }\\n        }\\n        tensor_content: &quot;<stripped 40 bytes>&quot;\\n      }\\n    }\\n  }\\n}\\nnode {\\n  name: &quot;dense3/MatMul/ReadVariableOp&quot;\\n  op: &quot;Identity&quot;\\n  input: &quot;dense3/kernel&quot;\\n  attr {\\n    key: &quot;T&quot;\\n    value {\\n      type: DT_FLOAT\\n    }\\n  }\\n}\\nnode {\\n  name: &quot;dense3/MatMul&quot;\\n  op: &quot;MatMul&quot;\\n  input: &quot;dense2/BiasAdd&quot;\\n  input: &quot;dense3/MatMul/ReadVariableOp&quot;\\n  attr {\\n    key: &quot;T&quot;\\n    value {\\n      type: DT_FLOAT\\n    }\\n  }\\n  attr {\\n    key: &quot;transpose_a&quot;\\n    value {\\n      b: false\\n    }\\n  }\\n  attr {\\n    key: &quot;transpose_b&quot;\\n    value {\\n      b: false\\n    }\\n  }\\n}\\nnode {\\n  name: &quot;dense3/BiasAdd/ReadVariableOp&quot;\\n  op: &quot;Identity&quot;\\n  input: &quot;dense3/bias&quot;\\n  attr {\\n    key: &quot;T&quot;\\n    value {\\n      type: DT_FLOAT\\n    }\\n  }\\n}\\nnode {\\n  name: &quot;dense3/BiasAdd&quot;\\n  op: &quot;BiasAdd&quot;\\n  input: &quot;dense3/MatMul&quot;\\n  input: &quot;dense3/BiasAdd/ReadVariableOp&quot;\\n  attr {\\n    key: &quot;T&quot;\\n    value {\\n      type: DT_FLOAT\\n    }\\n  }\\n  attr {\\n    key: &quot;data_format&quot;\\n    value {\\n      s: &quot;NHWC&quot;\\n    }\\n  }\\n}\\nnode {\\n  name: &quot;dense3/Softmax&quot;\\n  op: &quot;Softmax&quot;\\n  input: &quot;dense3/BiasAdd&quot;\\n  attr {\\n    key: &quot;T&quot;\\n    value {\\n      type: DT_FLOAT\\n    }\\n  }\\n}\\nnode {\\n  name: &quot;lucid_metadata_json&quot;\\n  op: &quot;Const&quot;\\n  attr {\\n    key: &quot;dtype&quot;\\n    value {\\n      type: DT_STRING\\n    }\\n  }\\n  attr {\\n    key: &quot;value&quot;\\n    value {\\n      tensor {\\n        dtype: DT_STRING\\n        tensor_shape {\\n        }\\n        string_val: &quot;{\\\\&quot;input_name\\\\&quot;: \\\\&quot;conv1_input\\\\&quot;, \\\\&quot;image_shape\\\\&quot;: [8000, 1], \\\\&quot;image_value_range\\\\&quot;: [-1, 1]}&quot;\\n      }\\n    }\\n  }\\n}\\n';\n",
       "          }\n",
       "        </script>\n",
       "        <link rel=&quot;import&quot; href=&quot;https://tensorboard.appspot.com/tf-graph-basic.build.html&quot; onload=load()>\n",
       "        <div style=&quot;height:600px&quot;>\n",
       "          <tf-graph-basic id=&quot;graph0.7745351983431056&quot;></tf-graph-basic>\n",
       "        </div>\n",
       "    \"></iframe>\n",
       "    "
      ],
      "text/plain": [
       "<IPython.core.display.HTML object>"
      ]
     },
     "metadata": {},
     "output_type": "display_data"
    }
   ],
   "source": [
    "model.show_graph()"
   ]
  },
  {
   "cell_type": "code",
   "execution_count": 9,
   "metadata": {},
   "outputs": [
    {
     "data": {
      "text/plain": [
       "[8000, 1]"
      ]
     },
     "execution_count": 9,
     "metadata": {},
     "output_type": "execute_result"
    }
   ],
   "source": [
    "model.image_shape"
   ]
  },
  {
   "cell_type": "code",
   "execution_count": 29,
   "metadata": {},
   "outputs": [
    {
     "name": "stdout",
     "output_type": "stream",
     "text": [
      "    def import_graph(self, t_input=None, scope='import'):\n",
      "        \"\"\"Import model GraphDef into the current graph.\"\"\"\n",
      "        graph = tf.get_default_graph()\n",
      "        assert graph.unique_name(scope, False) == scope, (\n",
      "            'Scope \"%s\" already exists. Provide explicit scope names when '\n",
      "            'importing multiple instances of the model.') % scope\n",
      "        print(type(self))\n",
      "        t_input, t_prep_input = self.create_input(t_input)\n",
      "        tf.import_graph_def(\n",
      "            self.graph_def, {self.input_name: t_prep_input}, name=scope)\n",
      "        self.post_import(scope)\n",
      "\n"
     ]
    }
   ],
   "source": [
    "import inspect\n",
    "\n",
    "print(inspect.getsource(model.import_graph))"
   ]
  }
 ],
 "metadata": {
  "kernelspec": {
   "display_name": "Python 3",
   "language": "python",
   "name": "python3"
  },
  "language_info": {
   "codemirror_mode": {
    "name": "ipython",
    "version": 3
   },
   "file_extension": ".py",
   "mimetype": "text/x-python",
   "name": "python",
   "nbconvert_exporter": "python",
   "pygments_lexer": "ipython3",
   "version": "3.7.3"
  }
 },
 "nbformat": 4,
 "nbformat_minor": 2
}
